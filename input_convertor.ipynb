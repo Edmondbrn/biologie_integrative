{
 "cells": [
  {
   "cell_type": "code",
   "execution_count": 1,
   "metadata": {},
   "outputs": [],
   "source": [
    "import os \n",
    "import pandas as pd"
   ]
  },
  {
   "cell_type": "code",
   "execution_count": 6,
   "metadata": {},
   "outputs": [],
   "source": [
    "# renomme 1er colonne en refseq\n",
    "\n",
    "df_NM = pd.read_csv(\"output/merged_NM.txt\", sep=\"\\t\")\n",
    "df_NM.rename(columns={\"refseq_mrna\": \"refseq\"}, inplace=True)\n",
    "df_NR = pd.read_csv(\"output/merged_NR.txt\", sep=\"\\t\")\n",
    "df_NR.rename(columns={\"refseq_ncrna\": \"refseq\"}, inplace=True)\n",
    "df_XM = pd.read_csv(\"output/merged_XM.txt\", sep=\"\\t\")\n",
    "df_XM.rename(columns={\"refseq_mrna_predicted\": \"refseq\"}, inplace=True)\n",
    "df_XR = pd.read_csv(\"output/merged_XR.txt\", sep=\"\\t\")\n",
    "df_XR.rename(columns={\"refseq_ncrna_predicted\": \"refseq\"}, inplace=True)\n",
    "df_merged = pd.concat([df_NM, df_NR, df_XM, df_XR])"
   ]
  },
  {
   "cell_type": "code",
   "execution_count": 16,
   "metadata": {},
   "outputs": [],
   "source": [
    "fh = open(\"FMRP_Binding_sites_mouse_Maurin_NAR_2014.csv\")\n",
    "dict_dataframe = {\"gene_name\" : [], \"refseq_complete\" : [], \"refseq\" : [], \"start\" : [], \"end\" : [], \"seq\" : []}\n",
    "for line in fh:\n",
    "    line = line.strip()\n",
    "    if line.startswith(\">\"):\n",
    "        linesplit = line.split(\"|\")\n",
    "        gene_name = linesplit[0][1:]\n",
    "        linesplit2 = linesplit[1].split(\":\")\n",
    "        refseq = linesplit2[0]\n",
    "        refseq_edit = refseq.split(\".\")[0]\n",
    "        start = linesplit2[1].split(\"-\")[0]\n",
    "        end = linesplit2[1].split(\"-\")[1]\n",
    "        seq = next(fh).strip()\n",
    "        dict_dataframe[\"gene_name\"].append(gene_name)\n",
    "        dict_dataframe[\"refseq_complete\"].append(refseq)\n",
    "        dict_dataframe[\"refseq\"].append(refseq_edit)\n",
    "        dict_dataframe[\"start\"].append(start)\n",
    "        dict_dataframe[\"end\"].append(end)\n",
    "        dict_dataframe[\"seq\"].append(seq)\n",
    "fh.close()"
   ]
  },
  {
   "cell_type": "code",
   "execution_count": 17,
   "metadata": {},
   "outputs": [],
   "source": [
    "dict_input = pd.DataFrame(dict_dataframe)"
   ]
  },
  {
   "cell_type": "code",
   "execution_count": 18,
   "metadata": {},
   "outputs": [],
   "source": [
    "dict_edit = pd.merge(dict_input, df_merged, on=\"refseq\", how=\"left\")"
   ]
  },
  {
   "cell_type": "code",
   "execution_count": 21,
   "metadata": {},
   "outputs": [],
   "source": [
    "# convert Nan to Unknown\n",
    "dict_edit.fillna(\"Unknown\", inplace=True)"
   ]
  },
  {
   "cell_type": "code",
   "execution_count": 22,
   "metadata": {},
   "outputs": [],
   "source": [
    "dict_edit.to_csv(\"FMRP_Binding_sites_mouse_Maurin_NAR_2014_merged.txt\", sep=\"\\t\", index=False)"
   ]
  }
 ],
 "metadata": {
  "kernelspec": {
   "display_name": "cours",
   "language": "python",
   "name": "python3"
  },
  "language_info": {
   "codemirror_mode": {
    "name": "ipython",
    "version": 3
   },
   "file_extension": ".py",
   "mimetype": "text/x-python",
   "name": "python",
   "nbconvert_exporter": "python",
   "pygments_lexer": "ipython3",
   "version": "3.10.15"
  }
 },
 "nbformat": 4,
 "nbformat_minor": 2
}
